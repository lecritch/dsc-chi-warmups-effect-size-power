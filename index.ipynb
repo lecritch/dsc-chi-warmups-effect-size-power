{
 "cells": [
  {
   "cell_type": "markdown",
   "metadata": {},
   "source": [
    "# Power and Effect Size Warmup\n",
    "\n",
    "![](viz/power.gif)"
   ]
  },
  {
   "cell_type": "markdown",
   "metadata": {},
   "source": [
    "## Conceptual Writing\n",
    "\n",
    "![](viz/writing.jpg)\n",
    "\n",
    "#### 1) What is effect size, and what is its relationship to p-values and significance?  \n",
    "\n",
    "#### 2) What are three elements that affect power, and how do they do so?"
   ]
  },
  {
   "cell_type": "code",
   "execution_count": 1,
   "metadata": {},
   "outputs": [
    {
     "data": {
      "text/plain": [
       "'\\n1)\\nEffect size is the magnitude of the difference between two distributions.  While \\np-values highlight significant evidence towards whether there is a difference, \\neffect size determines what the magnitude of that significance actually is.\\n\\nTHEIR SOLUTION:\\nEffect size quantifies the difference between two values under scrutiny.  We want to have a measure of this separate from\\np-value, because p-value increases as sample size increases.  \\n\\nIn other words, in some sense a p-value can be specified with a large enough sample size.  We want to be able to quantify\\na difference between two values even if they are deemed \"significant\" in order to help mitigate this effect.\\n\\n2)\\nPower is affected by the chosen alpha value (prob of type I error), the effect size\\nand the sample size.  Since alpha and beta (prob of type II error) are closely related,\\nand beta determines power (since power = 1 - beta), reducing alpha will also reduce\\npower.  Sample size also has an effect on power - a small sample size will result in\\na smaller power and visa versa.  Effect size influences power by..... I\\'m not sure \\nactually...\\n\\nTHEIR SOLUTION:\\nalpha - the point at which we deem a test statistic to be significantly different from chance that it provides evidence against\\nthe null hypothesis.  This relates to power in that power is the rate at which we reject the null hypothesis when it is false,\\nand so alpha is the \"starting point\" at which we determine whether the null hypothesis should be counted as \"false\"\\n\\nsample size - the larger the sample size, the more power a given test has.  With an increased number of points, a measurement\\nerroneously accepting the null when it should be rejected is less likely.\\n\\neffect size - as a measurement of how \"different\" two samples are, this reflects the underlying reality of whether or not \\na null hypothesis should be rejected.  Since power is a measure of how frequently the null hypothesis is accepted when it should\\nbe rejected, a smaller effect size means a higher power is required to accurately reject null hypotheses at a given rate.\\n\\n'"
      ]
     },
     "execution_count": 1,
     "metadata": {},
     "output_type": "execute_result"
    }
   ],
   "source": [
    "'''\n",
    "1)\n",
    "Effect size is the magnitude of the difference between two distributions.  While \n",
    "p-values highlight significant evidence towards whether there is a difference, \n",
    "effect size determines what the magnitude of that significance actually is.\n",
    "\n",
    "THEIR SOLUTION:\n",
    "Effect size quantifies the difference between two values under scrutiny.  We want to have a measure of this separate from\n",
    "p-value, because p-value increases as sample size increases.  \n",
    "\n",
    "In other words, in some sense a p-value can be specified with a large enough sample size.  We want to be able to quantify\n",
    "a difference between two values even if they are deemed \"significant\" in order to help mitigate this effect.\n",
    "\n",
    "2)\n",
    "Power is affected by the chosen alpha value (prob of type I error), the effect size\n",
    "and the sample size.  Since alpha and beta (prob of type II error) are closely related,\n",
    "and beta determines power (since power = 1 - beta), reducing alpha will also reduce\n",
    "power.  Sample size also has an effect on power - a small sample size will result in\n",
    "a smaller power and visa versa.  Effect size influences power by..... I'm not sure \n",
    "actually...\n",
    "\n",
    "THEIR SOLUTION:\n",
    "alpha - the point at which we deem a test statistic to be significantly different from chance that it provides evidence against\n",
    "the null hypothesis.  This relates to power in that power is the rate at which we reject the null hypothesis when it is false,\n",
    "and so alpha is the \"starting point\" at which we determine whether the null hypothesis should be counted as \"false\"\n",
    "\n",
    "sample size - the larger the sample size, the more power a given test has.  With an increased number of points, a measurement\n",
    "erroneously accepting the null when it should be rejected is less likely.\n",
    "\n",
    "effect size - as a measurement of how \"different\" two samples are, this reflects the underlying reality of whether or not \n",
    "a null hypothesis should be rejected.  Since power is a measure of how frequently the null hypothesis is accepted when it should\n",
    "be rejected, a smaller effect size means a higher power is required to accurately reject null hypotheses at a given rate.\n",
    "\n",
    "'''"
   ]
  },
  {
   "cell_type": "markdown",
   "metadata": {},
   "source": [
    "## Calculations \n",
    "\n",
    "![](viz/nine_thousand.gif)"
   ]
  },
  {
   "cell_type": "markdown",
   "metadata": {},
   "source": [
    "# Note:\n",
    "\n",
    "This is an exercise in demonstrating how power affects the success of a test, and does not represent \"best practices\"\n",
    "\n",
    "See more at the [end of the exercise](#A-note-on-best-practices)"
   ]
  },
  {
   "cell_type": "markdown",
   "metadata": {},
   "source": [
    "## A tiff has broken out in the media between city construction workers and human services departments\n",
    "\n",
    "A federal construction agency believes there's too much bloat in city human services departments.  They point to generally more \"junior positions\" in construction than in human services, even though there are about the same number of positions total.  \n",
    "\n",
    "Your task, as a scrappy young member of the Seattle `Human Services` department, is to de-fang that argument.\n",
    "\n",
    "You consider that a good counter-argument would be that, even though there are more \"junior\" positions in construction than human services, the construction jobs pay more."
   ]
  },
  {
   "cell_type": "markdown",
   "metadata": {},
   "source": [
    "### Imports"
   ]
  },
  {
   "cell_type": "code",
   "execution_count": null,
   "metadata": {},
   "outputs": [],
   "source": [
    "#Run cell as-is\n",
    "\n",
    "#data manip\n",
    "import numpy as np \n",
    "import pandas as pd\n",
    "\n",
    "#stats\n",
    "from scipy import stats\n",
    "from statsmodels.stats.power import TTestIndPower"
   ]
  },
  {
   "cell_type": "markdown",
   "metadata": {},
   "source": [
    "### Import data from data folder\n",
    "\n",
    "You know what data this is"
   ]
  },
  {
   "cell_type": "code",
   "execution_count": null,
   "metadata": {},
   "outputs": [],
   "source": [
    "#your code here"
   ]
  },
  {
   "cell_type": "markdown",
   "metadata": {},
   "source": [
    "#### First: is the argument accurate about Seattle?  How does the % of \"junior\" positions in `Construction & Services` compare to that in the `Human Services Department`?\n",
    "\n",
    "- Find all the jobs that are \"senior\" by selecting those that have \"Sr\" as the last two characters in `job_title`\n",
    "\n",
    "- Create a dataframe of jobs in `Construction & Services` that are not \"senior\" jobs\n",
    "\n",
    "- Create a dataframe of jobs in `Human Services Department` that are not \"senior\" jobs\n",
    "\n",
    "- Calculate the %age of \"junior\" jobs in `Construction & Services` to see if it's numerically smaller than in the `Human Services Department`"
   ]
  },
  {
   "cell_type": "code",
   "execution_count": null,
   "metadata": {},
   "outputs": [],
   "source": [
    "#Your code here"
   ]
  },
  {
   "cell_type": "markdown",
   "metadata": {},
   "source": [
    "#### So Seattle would make a good test case to see if human services \"junior\" jobs pay worse on average than construction jobs\n",
    "\n",
    "#### What is our null and alternative hypothesis?"
   ]
  },
  {
   "cell_type": "code",
   "execution_count": 216,
   "metadata": {},
   "outputs": [],
   "source": [
    "'''\n",
    "Write hypotheses here\n",
    "'''"
   ]
  },
  {
   "cell_type": "markdown",
   "metadata": {},
   "source": [
    "#### To find evidence rejecting the idea there are no differences, find the sample size needed to generate an independent t-test w/ power = .8 and $\\alpha$ = .05"
   ]
  },
  {
   "cell_type": "code",
   "execution_count": 189,
   "metadata": {},
   "outputs": [],
   "source": [
    "#Your code here"
   ]
  },
  {
   "cell_type": "markdown",
   "metadata": {},
   "source": [
    "#### If there are enough obs, sample that sample size from each of the `Construction & Inspections` and `Human Service Dept` junior employees\n",
    "\n",
    "use `random_state=33` so we all get the same employees"
   ]
  },
  {
   "cell_type": "code",
   "execution_count": 229,
   "metadata": {},
   "outputs": [],
   "source": [
    "#Your code here"
   ]
  },
  {
   "cell_type": "markdown",
   "metadata": {},
   "source": [
    "#### Calculate a statistical test to determine whether to accept or reject the null hypothesis\n",
    "\n",
    "- Determine what kind test is most appropriate\n",
    "\n",
    "- Calculate\n",
    "\n",
    "- Accept or reject the null?"
   ]
  },
  {
   "cell_type": "code",
   "execution_count": 231,
   "metadata": {},
   "outputs": [],
   "source": [
    "#Your code here"
   ]
  },
  {
   "cell_type": "markdown",
   "metadata": {},
   "source": [
    "#### Hm, you think\n",
    "\n",
    "Maybe it is accurate to reject the null hypothesis, and our test lacks sufficient power to pick it up\n",
    "\n",
    "#### Calculate, using 100 different samples (w/ `random_state`$\\in$[0:99]), what %age of t-tests we would expect to see as not providing evidence sufficiently different from chance **when we should, in fact, reject the null**"
   ]
  },
  {
   "cell_type": "code",
   "execution_count": null,
   "metadata": {},
   "outputs": [],
   "source": [
    "#Your code here"
   ]
  },
  {
   "cell_type": "markdown",
   "metadata": {},
   "source": [
    "#### Ah, we chose a power level admitting 20% of tests which incorrectly fail to reject the null, and our sample was part of the \"unlucky\" 20%\n",
    "\n",
    "#### What sample size do we need for a power level of .99?  ($\\alpha$ remains at .05)"
   ]
  },
  {
   "cell_type": "code",
   "execution_count": null,
   "metadata": {},
   "outputs": [],
   "source": [
    "#your code here"
   ]
  },
  {
   "cell_type": "markdown",
   "metadata": {},
   "source": [
    "#### Sample that number and re-calculate a test (`random_state`==33)"
   ]
  },
  {
   "cell_type": "code",
   "execution_count": null,
   "metadata": {},
   "outputs": [],
   "source": [
    "#Your code here"
   ]
  },
  {
   "cell_type": "markdown",
   "metadata": {},
   "source": [
    "#### With a test of sufficient power, what evidence have we found that allows us to counter the argument that, since there are a higher %age of \"junior\" workers in `Construction & Inspection` compared to `Human Services`, that `Construction & Inspection` workers are underpaid?"
   ]
  },
  {
   "cell_type": "code",
   "execution_count": null,
   "metadata": {},
   "outputs": [],
   "source": [
    "'''\n",
    "Your answer here\n",
    "'''"
   ]
  },
  {
   "cell_type": "markdown",
   "metadata": {},
   "source": [
    "# A note on best practices\n",
    "\n",
    "It is not often that we are able to continually sample in order to figure out a test of sufficient power.  Often, that decision must be made *in order to sample*, and you get one shot.\n",
    "\n",
    "Additionally: adjusting a sample-size to get a test of sufficient power without making other adjustments can be a form of [p-hacking](https://www.textbook.ds100.org/ch/18/hyp_phacking.html)"
   ]
  },
  {
   "cell_type": "code",
   "execution_count": null,
   "metadata": {},
   "outputs": [],
   "source": []
  }
 ],
 "metadata": {
  "kernelspec": {
   "display_name": "Python 3",
   "language": "python",
   "name": "python3"
  },
  "language_info": {
   "codemirror_mode": {
    "name": "ipython",
    "version": 3
   },
   "file_extension": ".py",
   "mimetype": "text/x-python",
   "name": "python",
   "nbconvert_exporter": "python",
   "pygments_lexer": "ipython3",
   "version": "3.6.9"
  }
 },
 "nbformat": 4,
 "nbformat_minor": 4
}
